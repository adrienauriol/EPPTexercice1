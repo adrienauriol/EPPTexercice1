{
 "cells": [
  {
   "cell_type": "code",
   "execution_count": null,
   "metadata": {},
   "outputs": [],
   "source": []
  },
  {
   "cell_type": "code",
   "execution_count": 1,
   "metadata": {},
   "outputs": [
    {
     "name": "stdout",
     "output_type": "stream",
     "text": [
      "Welcome to JupyROOT 6.22/06\n"
     ]
    }
   ],
   "source": [
    "from ROOT import TFile\n",
    "import numpy as np\n",
    "import matplotlib.pyplot as plt\n",
    "from scipy import optimize"
   ]
  },
  {
   "cell_type": "code",
   "execution_count": 2,
   "metadata": {},
   "outputs": [],
   "source": [
    "path=\"/home/aa/EPPT/run/\""
   ]
  },
  {
   "cell_type": "code",
   "execution_count": 3,
   "metadata": {},
   "outputs": [],
   "source": [
    "load_file = TFile(path+\"B5.root\", \"READ\")\n",
    "tree = load_file.Get('B5')"
   ]
  },
  {
   "cell_type": "code",
   "execution_count": 100,
   "metadata": {},
   "outputs": [
    {
     "name": "stdout",
     "output_type": "stream",
     "text": [
      "Too less x hits. Reject event # 169\n",
      "Too less y hits. Reject event # 169\n",
      "Too less z hits. Reject event # 169\n"
     ]
    }
   ],
   "source": [
    "#Event 0 to initiate numpy array and just vstack after\n",
    "tree.GetEntry(0)\n",
    "dc1_xpos = np.array( getattr(tree, 'Dc1HitsVector_x') )\n",
    "dc1_ypos = np.array( getattr(tree, 'Dc1HitsVector_y') )\n",
    "dc1_zpos = np.array( getattr(tree, 'Dc1HitsVector_z') )\n",
    "\n",
    "\n",
    "for entry in range(1, tree.GetEntries()):\n",
    "    tree.GetEntry(entry)\n",
    "    if (np.array( getattr(tree, 'Dc1HitsVector_x') ).size >= 5):\n",
    "       dc1_xpos=np.vstack( ( dc1_xpos , np.array( getattr( tree , 'Dc1HitsVector_x' ) )[:5] ) )\n",
    "    else : \n",
    "        print(\"Too less x hits. Reject event #\", entry)\n",
    "        \n",
    "    if (np.array( getattr(tree, 'Dc1HitsVector_y') ).size >= 5):\n",
    "       dc1_ypos=np.vstack( ( dc1_ypos , np.array( getattr( tree , 'Dc1HitsVector_y' ) )[:5] ) )\n",
    "    else : \n",
    "        print(\"Too less y hits. Reject event #\", entry)\n",
    "    \n",
    "    if (np.array( getattr(tree, 'Dc1HitsVector_z') ).size >= 5):\n",
    "       dc1_zpos=np.vstack( ( dc1_zpos , np.array( getattr( tree , 'Dc1HitsVector_z' ) )[:5] ) )\n",
    "    else : \n",
    "        print(\"Too less z hits. Reject event #\", entry)"
   ]
  },
  {
   "cell_type": "code",
   "execution_count": 101,
   "metadata": {},
   "outputs": [
    {
     "name": "stdout",
     "output_type": "stream",
     "text": [
      "Too less x hits. Reject event # 169\n",
      "Too less y hits. Reject event # 169\n",
      "Too less z hits. Reject event # 169\n"
     ]
    }
   ],
   "source": [
    "dc2_xpos = np.array( getattr(tree, 'Dc2HitsVector_x') )\n",
    "dc2_ypos = np.array( getattr(tree, 'Dc2HitsVector_y') )\n",
    "dc2_zpos = np.array( getattr(tree, 'Dc2HitsVector_z') )\n",
    "\n",
    "for entry in range(1, tree.GetEntries()):\n",
    "    tree.GetEntry(entry)\n",
    "    if (np.array( getattr(tree, 'Dc2HitsVector_x') ).size >= 5):\n",
    "       dc2_xpos=np.vstack( ( dc2_xpos , np.array( getattr( tree , 'Dc2HitsVector_x' ) )[:5] ) )\n",
    "    else : \n",
    "        print(\"Too less x hits. Reject event #\", entry)\n",
    "        \n",
    "    if (np.array( getattr(tree, 'Dc2HitsVector_y') ).size >= 5):\n",
    "       dc2_ypos=np.vstack( ( dc2_ypos , np.array( getattr( tree , 'Dc2HitsVector_y' ) )[:5] ) )\n",
    "    else : \n",
    "        print(\"Too less y hits. Reject event #\", entry)\n",
    "    \n",
    "    if (np.array( getattr(tree, 'Dc2HitsVector_z') ).size >= 5):\n",
    "       dc2_zpos=np.vstack( ( dc2_zpos , np.array( getattr( tree , 'Dc2HitsVector_z' ) )[:5] ) )\n",
    "    else : \n",
    "        print(\"Too less z hits. Reject event #\", entry)"
   ]
  },
  {
   "cell_type": "code",
   "execution_count": 123,
   "metadata": {},
   "outputs": [
    {
     "data": {
      "image/png": "[encoded data removed]",
      "text/plain": [
       "<Figure size 576x576 with 1 Axes>"
      ]
     },
     "metadata": {
      "needs_background": "light"
     },
     "output_type": "display_data"
    }
   ],
   "source": [
    "event = 11\n",
    "save = False\n",
    "\n",
    "def linear(x,a,b):\n",
    "    return a*x+b\n",
    "\n",
    "zPosDC1 = np.array([-6.25, -5.75, -5.25, -4.75, -4.25])\n",
    "zPosDC2 = np.array([2.25, 2.75, 3.25, 3.75, 4.25])\n",
    "\n",
    "#Set x values to the good units\n",
    "dc1_xpos_metres=dc1_xpos/1000\n",
    "dc2_xpos_metres=dc2_xpos/1000\n",
    "\n",
    "\n",
    "popt1,pcov1 = optimize.curve_fit(linear,zPosDC1,dc1_xpos_metres[event])\n",
    "z1=np.linspace(-6.25,0)\n",
    "x1=linear(x=z1,a=popt1[0],b=popt1[1])\n",
    "\n",
    "popt2,pcov2 = optimize.curve_fit(linear,zPosDC2,dc2_xpos_metres[event])\n",
    "z2=np.linspace(-0.5,4.25)\n",
    "x2=linear(x=z2,a=popt2[0],b=popt2[1])\n",
    "\n",
    "\n",
    "#PLOT\n",
    "fig = plt.figure(figsize=(8,8))\n",
    "\n",
    "axes= fig.add_axes([0.1,0.1,0.8,0.8])\n",
    "\n",
    "axes.scatter(zPosDC1,dc1_xpos_metres[event],label='DC1')\n",
    "axes.scatter(zPosDC2, dc2_xpos_metres[event] , label='DC2')\n",
    "axes.plot(z1,x1)\n",
    "axes.plot(z2,x2)\n",
    "axes.set_ylim(-1.5E-2,1E-3)\n",
    "\n",
    "square=plt.Rectangle((-1,-1),2,2,fill=False)\n",
    "plt.gca().add_patch(square)\n",
    "\n",
    "plt.legend()\n",
    "\n",
    "plt.grid()\n",
    "if save : plt.savefig(\"event\"+str(event)+\".png\")\n",
    "    \n",
    "plt.title(\"Event #\"+str(event))\n",
    "\n",
    "plt.show()\n",
    "\n",
    "\n"
   ]
  },
  {
   "cell_type": "code",
   "execution_count": null,
   "metadata": {},
   "outputs": [],
   "source": []
  },
  {
   "cell_type": "code",
   "execution_count": null,
   "metadata": {},
   "outputs": [],
   "source": []
  }
 ],
 "metadata": {
  "kernelspec": {
   "display_name": "Python 3",
   "language": "python",
   "name": "python3"
  },
  "language_info": {
   "codemirror_mode": {
    "name": "ipython",
    "version": 3
   },
   "file_extension": ".py",
   "mimetype": "text/x-python",
   "name": "python",
   "nbconvert_exporter": "python",
   "pygments_lexer": "ipython3",
   "version": "3.8.7"
  }
 },
 "nbformat": 4,
 "nbformat_minor": 4
}
