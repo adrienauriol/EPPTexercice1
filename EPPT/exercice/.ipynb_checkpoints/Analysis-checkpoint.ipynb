{
 "cells": [
  {
   "cell_type": "code",
   "execution_count": 1,
   "metadata": {},
   "outputs": [
    {
     "name": "stdout",
     "output_type": "stream",
     "text": [
      "Welcome to JupyROOT 6.22/06\n"
     ]
    }
   ],
   "source": [
    "from ROOT import TFile\n",
    "import numpy as np\n",
    "import matplotlib.pyplot as plt"
   ]
  },
  {
   "cell_type": "code",
   "execution_count": 2,
   "metadata": {},
   "outputs": [],
   "source": [
    "path=\"/home/aa/EPPT/run/\""
   ]
  },
  {
   "cell_type": "code",
   "execution_count": 3,
   "metadata": {},
   "outputs": [],
   "source": [
    "load_file = TFile(path+\"B5.root\", \"READ\")\n",
    "tree = load_file.Get('B5')"
   ]
  },
  {
   "cell_type": "code",
   "execution_count": 4,
   "metadata": {},
   "outputs": [
    {
     "name": "stdout",
     "output_type": "stream",
     "text": [
      "Too less x hits. Reject event # 169\n",
      "Too less y hits. Reject event # 169\n",
      "Too less z hits. Reject event # 169\n"
     ]
    }
   ],
   "source": [
    "#Event 0 to initiate numpy array and just vstack after\n",
    "tree.GetEntry(0)\n",
    "dc1_xpos = np.array( getattr(tree, 'Dc1HitsVector_x') )\n",
    "dc1_ypos = np.array( getattr(tree, 'Dc1HitsVector_y') )\n",
    "dc1_zpos = np.array( getattr(tree, 'Dc1HitsVector_z') )\n",
    "\n",
    "\n",
    "for entry in range(1, tree.GetEntries()):\n",
    "    tree.GetEntry(entry)\n",
    "    if (np.array( getattr(tree, 'Dc1HitsVector_x') ).size >= 5):\n",
    "       dc1_xpos=np.vstack( ( dc1_xpos , np.array( getattr( tree , 'Dc1HitsVector_x' ) )[:5] ) )\n",
    "    else : \n",
    "        print(\"Too less x hits. Reject event #\", entry)\n",
    "        \n",
    "    if (np.array( getattr(tree, 'Dc1HitsVector_y') ).size >= 5):\n",
    "       dc1_ypos=np.vstack( ( dc1_ypos , np.array( getattr( tree , 'Dc1HitsVector_y' ) )[:5] ) )\n",
    "    else : \n",
    "        print(\"Too less y hits. Reject event #\", entry)\n",
    "    \n",
    "    if (np.array( getattr(tree, 'Dc1HitsVector_z') ).size >= 5):\n",
    "       dc1_zpos=np.vstack( ( dc1_zpos , np.array( getattr( tree , 'Dc1HitsVector_z' ) )[:5] ) )\n",
    "    else : \n",
    "        print(\"Too less z hits. Reject event #\", entry)"
   ]
  },
  {
   "cell_type": "code",
   "execution_count": 5,
   "metadata": {},
   "outputs": [
    {
     "name": "stdout",
     "output_type": "stream",
     "text": [
      "Too less x hits. Reject event # 169\n",
      "Too less y hits. Reject event # 169\n",
      "Too less z hits. Reject event # 169\n"
     ]
    }
   ],
   "source": [
    "dc2_xpos = np.array( getattr(tree, 'Dc2HitsVector_x') )\n",
    "dc2_ypos = np.array( getattr(tree, 'Dc2HitsVector_y') )\n",
    "dc2_zpos = np.array( getattr(tree, 'Dc2HitsVector_z') )\n",
    "\n",
    "for entry in range(1, tree.GetEntries()):\n",
    "    tree.GetEntry(entry)\n",
    "    if (np.array( getattr(tree, 'Dc2HitsVector_x') ).size >= 5):\n",
    "       dc2_xpos=np.vstack( ( dc2_xpos , np.array( getattr( tree , 'Dc2HitsVector_x' ) )[:5] ) )\n",
    "    else : \n",
    "        print(\"Too less x hits. Reject event #\", entry)\n",
    "        \n",
    "    if (np.array( getattr(tree, 'Dc2HitsVector_y') ).size >= 5):\n",
    "       dc2_ypos=np.vstack( ( dc2_ypos , np.array( getattr( tree , 'Dc2HitsVector_y' ) )[:5] ) )\n",
    "    else : \n",
    "        print(\"Too less y hits. Reject event #\", entry)\n",
    "    \n",
    "    if (np.array( getattr(tree, 'Dc2HitsVector_z') ).size >= 5):\n",
    "       dc2_zpos=np.vstack( ( dc2_zpos , np.array( getattr( tree , 'Dc2HitsVector_z' ) )[:5] ) )\n",
    "    else : \n",
    "        print(\"Too less z hits. Reject event #\", entry)"
   ]
  },
  {
   "cell_type": "code",
   "execution_count": 7,
   "metadata": {},
   "outputs": [
    {
     "data": {
      "image/png": "[encoded data removed]",
      "text/plain": [
       "<Figure size 576x576 with 1 Axes>"
      ]
     },
     "metadata": {
      "needs_background": "light"
     },
     "output_type": "display_data"
    }
   ],
   "source": [
    "import numpy as np\n",
    "import matplotlib.pyplot as plt\n",
    "\n",
    "event = 100\n",
    "\n",
    "fig = plt.figure(figsize=(8,8))\n",
    "plt.scatter(dc1_zpos[event],dc1_xpos[event],label='DC1')\n",
    "plt.scatter(dc2_zpos[event],dc2_xpos[event],label='DC2')\n",
    "plt.legend()\n",
    "\n",
    "plt.show()\n"
   ]
  },
  {
   "cell_type": "code",
   "execution_count": 9,
   "metadata": {},
   "outputs": [
    {
     "data": {
      "image/png": "[encoded data removed]",
      "text/plain": [
       "<Figure size 1080x576 with 1 Axes>"
      ]
     },
     "metadata": {
      "needs_background": "light"
     },
     "output_type": "display_data"
    },
    {
     "name": "stdout",
     "output_type": "stream",
     "text": [
      "[-0.00069673  0.00590685  0.01289802  0.0173545   0.02134454]\n",
      "[0. 1. 2. 3. 4.]\n"
     ]
    }
   ],
   "source": [
    "from scipy import optimize\n",
    "\n",
    "def linear(x,a,b):\n",
    "    return a*x+b\n",
    "\n",
    "distance_magdc1=0.3\n",
    "distance_magdc2=0.3\n",
    "mag_box_xsize=5\n",
    "\n",
    "popt1,pcov1 = optimize.curve_fit(linear,dc1_zpos[event],dc1_xpos[event])\n",
    "z1=np.linspace(dc1_zpos[event][0],dc1_zpos[event][4])\n",
    "x1=linear(x=z1,a=popt1[0],b=popt1[1])\n",
    "\n",
    "popt2,pcov2 = optimize.curve_fit(linear,dc2_zpos[event],dc2_xpos[event])\n",
    "z2=np.linspace(dc2_zpos[event][0],dc2_zpos[event][4])\n",
    "x2=linear(x=z2,a=popt2[0],b=popt2[1])\n",
    "\n",
    "\n",
    "fig = plt.figure(figsize=(15,8))\n",
    "plt.scatter(dc1_zpos[event],dc1_xpos[event],label='DC1')\n",
    "plt.scatter(dc2_zpos[event] + distance_magdc1 + distance_magdc2 + mag_box_xsize , dc2_xpos[event] , label='DC2')\n",
    "\n",
    "plt.plot(z1,x1)\n",
    "plt.plot(z2+ distance_magdc1 + distance_magdc2 + mag_box_xsize,x2)\n",
    "plt.legend()\n",
    "\n",
    "plt.show()\n",
    "\n",
    "print(dc1_xpos[event])\n",
    "print(dc1_zpos[event])"
   ]
  },
  {
   "cell_type": "code",
   "execution_count": null,
   "metadata": {},
   "outputs": [],
   "source": []
  }
 ],
 "metadata": {
  "kernelspec": {
   "display_name": "Python 3",
   "language": "python",
   "name": "python3"
  },
  "language_info": {
   "codemirror_mode": {
    "name": "ipython",
    "version": 3
   },
   "file_extension": ".py",
   "mimetype": "text/x-python",
   "name": "python",
   "nbconvert_exporter": "python",
   "pygments_lexer": "ipython3",
   "version": "3.8.7"
  }
 },
 "nbformat": 4,
 "nbformat_minor": 4
}
